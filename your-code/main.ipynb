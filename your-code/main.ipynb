{
 "cells": [
  {
   "cell_type": "markdown",
   "metadata": {},
   "source": [
    "# Intrduction to NumPy\n",
    "\n",
    "\n",
    "#### 1. Import NumPy under the name np."
   ]
  },
  {
   "cell_type": "code",
   "execution_count": 154,
   "metadata": {},
   "outputs": [],
   "source": [
    "# your code here\n",
    "import numpy as np"
   ]
  },
  {
   "cell_type": "markdown",
   "metadata": {},
   "source": [
    "#### 2. Print your NumPy version."
   ]
  },
  {
   "cell_type": "code",
   "execution_count": 155,
   "metadata": {},
   "outputs": [
    {
     "name": "stdout",
     "output_type": "stream",
     "text": [
      "1.21.5\n"
     ]
    }
   ],
   "source": [
    "# your code here\n",
    "print(np.__version__)"
   ]
  },
  {
   "cell_type": "markdown",
   "metadata": {},
   "source": [
    "#### 3. Generate a 2x3x5 3-dimensional array with random values. Assign the array to variable *a*.\n",
    "**Challenge**: there are at least three easy ways that use numpy to generate random arrays. How many ways can you find?"
   ]
  },
  {
   "cell_type": "code",
   "execution_count": 156,
   "metadata": {},
   "outputs": [
    {
     "data": {
      "text/plain": [
       "array([[[0.68292023, 0.24278407, 0.191408  , 0.47760188, 0.75541167],\n",
       "        [0.28412999, 0.9129296 , 0.74898182, 0.21755002, 0.03217562],\n",
       "        [0.87739275, 0.04313339, 0.67160761, 0.41725138, 0.5014646 ]],\n",
       "\n",
       "       [[0.85972397, 0.66854972, 0.63699777, 0.38823569, 0.827936  ],\n",
       "        [0.19931073, 0.72961601, 0.83171976, 0.61258272, 0.48052627],\n",
       "        [0.12425274, 0.64061573, 0.23724638, 0.9023152 , 0.32547382]]])"
      ]
     },
     "execution_count": 156,
     "metadata": {},
     "output_type": "execute_result"
    }
   ],
   "source": [
    "# Method 1\n",
    "np.random.random(size = (2,3,5))\n"
   ]
  },
  {
   "cell_type": "code",
   "execution_count": 157,
   "metadata": {},
   "outputs": [],
   "source": [
    "# Method 2\n",
    "a = np.random.rand(2,3,5)\n"
   ]
  },
  {
   "cell_type": "code",
   "execution_count": 158,
   "metadata": {},
   "outputs": [
    {
     "data": {
      "text/plain": [
       "array([[[6, 8, 3, 7, 1],\n",
       "        [8, 5, 1, 1, 8],\n",
       "        [4, 3, 2, 7, 2]],\n",
       "\n",
       "       [[4, 2, 7, 5, 8],\n",
       "        [7, 6, 7, 3, 1],\n",
       "        [7, 2, 2, 8, 5]]])"
      ]
     },
     "execution_count": 158,
     "metadata": {},
     "output_type": "execute_result"
    }
   ],
   "source": [
    "# Method 3\n",
    "np.random.randint(low=1, high=9, size=(2,3,5))\n"
   ]
  },
  {
   "cell_type": "markdown",
   "metadata": {},
   "source": [
    "#### 4. Print *a*.\n"
   ]
  },
  {
   "cell_type": "code",
   "execution_count": 159,
   "metadata": {},
   "outputs": [
    {
     "name": "stdout",
     "output_type": "stream",
     "text": [
      "[[[0.69383785 0.31557124 0.77128259 0.97539613 0.36927456]\n",
      "  [0.10023612 0.35177448 0.86386996 0.41433631 0.27002812]\n",
      "  [0.67394949 0.69947547 0.53958484 0.76677251 0.3238135 ]]\n",
      "\n",
      " [[0.7446107  0.54961824 0.6571615  0.20705326 0.52782555]\n",
      "  [0.03877731 0.84286891 0.47123326 0.76601986 0.38554845]\n",
      "  [0.25812644 0.43447495 0.33672481 0.41459509 0.41545317]]]\n"
     ]
    }
   ],
   "source": [
    "# your code here\n",
    "print(a)"
   ]
  },
  {
   "cell_type": "markdown",
   "metadata": {},
   "source": [
    "#### 5. Create a 5x2x3 3-dimensional array with all values equaling 1. Assign the array to variable *b*."
   ]
  },
  {
   "cell_type": "code",
   "execution_count": 160,
   "metadata": {},
   "outputs": [],
   "source": [
    "# your code here\n",
    "b = np.ones((5,2,3), int)\n"
   ]
  },
  {
   "cell_type": "markdown",
   "metadata": {},
   "source": [
    "#### 6. Print *b*.\n"
   ]
  },
  {
   "cell_type": "code",
   "execution_count": 161,
   "metadata": {},
   "outputs": [
    {
     "name": "stdout",
     "output_type": "stream",
     "text": [
      "[[[1 1 1]\n",
      "  [1 1 1]]\n",
      "\n",
      " [[1 1 1]\n",
      "  [1 1 1]]\n",
      "\n",
      " [[1 1 1]\n",
      "  [1 1 1]]\n",
      "\n",
      " [[1 1 1]\n",
      "  [1 1 1]]\n",
      "\n",
      " [[1 1 1]\n",
      "  [1 1 1]]]\n"
     ]
    }
   ],
   "source": [
    "# your code here\n",
    "print(b)"
   ]
  },
  {
   "cell_type": "markdown",
   "metadata": {},
   "source": [
    "#### 7. Do *a* and *b* have the same size? How do you prove that in Python code?"
   ]
  },
  {
   "cell_type": "code",
   "execution_count": 162,
   "metadata": {},
   "outputs": [
    {
     "name": "stdout",
     "output_type": "stream",
     "text": [
      "(2, 3, 5)\n",
      "(5, 2, 3)\n"
     ]
    }
   ],
   "source": [
    "# your code here\n",
    "print(a.shape)\n",
    "print(b.shape)"
   ]
  },
  {
   "cell_type": "markdown",
   "metadata": {},
   "source": [
    "#### 8. Are you able to add *a* and *b*? Why or why not?\n"
   ]
  },
  {
   "cell_type": "code",
   "execution_count": 163,
   "metadata": {},
   "outputs": [
    {
     "ename": "ValueError",
     "evalue": "operands could not be broadcast together with shapes (2,3,5) (5,2,3) ",
     "output_type": "error",
     "traceback": [
      "\u001b[1;31m---------------------------------------------------------------------------\u001b[0m",
      "\u001b[1;31mValueError\u001b[0m                                Traceback (most recent call last)",
      "\u001b[1;32m~\\AppData\\Local\\Temp\\ipykernel_19568\\482512606.py\u001b[0m in \u001b[0;36m<module>\u001b[1;34m\u001b[0m\n\u001b[0;32m      1\u001b[0m \u001b[1;31m# your answer here\u001b[0m\u001b[1;33m\u001b[0m\u001b[1;33m\u001b[0m\u001b[0m\n\u001b[1;32m----> 2\u001b[1;33m \u001b[0mc\u001b[0m \u001b[1;33m=\u001b[0m \u001b[0ma\u001b[0m \u001b[1;33m+\u001b[0m \u001b[0mb\u001b[0m\u001b[1;33m\u001b[0m\u001b[1;33m\u001b[0m\u001b[0m\n\u001b[0m\u001b[0;32m      3\u001b[0m \u001b[1;31m#both need to have the same shape\u001b[0m\u001b[1;33m\u001b[0m\u001b[1;33m\u001b[0m\u001b[0m\n",
      "\u001b[1;31mValueError\u001b[0m: operands could not be broadcast together with shapes (2,3,5) (5,2,3) "
     ]
    }
   ],
   "source": [
    "# your answer here\n",
    "c = a + b\n",
    "#both need to have the same shape"
   ]
  },
  {
   "cell_type": "markdown",
   "metadata": {},
   "source": [
    "#### 9. Transpose *b* so that it has the same structure of *a* (i.e. become a 2x3x5 array). Assign the transposed array to variable *c*."
   ]
  },
  {
   "cell_type": "code",
   "execution_count": 164,
   "metadata": {},
   "outputs": [
    {
     "data": {
      "text/plain": [
       "(2, 3, 5)"
      ]
     },
     "execution_count": 164,
     "metadata": {},
     "output_type": "execute_result"
    }
   ],
   "source": [
    "# your code here\n",
    "c = b.reshape(2,3,5)\n",
    "c.shape"
   ]
  },
  {
   "cell_type": "markdown",
   "metadata": {},
   "source": [
    "#### 10. Try to add *a* and *c*. Now it should work. Assign the sum to variable *d*. But why does it work now?"
   ]
  },
  {
   "cell_type": "code",
   "execution_count": 165,
   "metadata": {},
   "outputs": [],
   "source": [
    "# your code/answer here\n",
    "d = a + c\n",
    "#same shape"
   ]
  },
  {
   "cell_type": "markdown",
   "metadata": {},
   "source": [
    "#### 11. Print *a* and *d*. Notice the difference and relation of the two array in terms of the values? Explain."
   ]
  },
  {
   "cell_type": "code",
   "execution_count": 166,
   "metadata": {},
   "outputs": [
    {
     "name": "stdout",
     "output_type": "stream",
     "text": [
      "[[[0.69383785 0.31557124 0.77128259 0.97539613 0.36927456]\n",
      "  [0.10023612 0.35177448 0.86386996 0.41433631 0.27002812]\n",
      "  [0.67394949 0.69947547 0.53958484 0.76677251 0.3238135 ]]\n",
      "\n",
      " [[0.7446107  0.54961824 0.6571615  0.20705326 0.52782555]\n",
      "  [0.03877731 0.84286891 0.47123326 0.76601986 0.38554845]\n",
      "  [0.25812644 0.43447495 0.33672481 0.41459509 0.41545317]]]\n",
      "[[[1 1 1]\n",
      "  [1 1 1]]\n",
      "\n",
      " [[1 1 1]\n",
      "  [1 1 1]]\n",
      "\n",
      " [[1 1 1]\n",
      "  [1 1 1]]\n",
      "\n",
      " [[1 1 1]\n",
      "  [1 1 1]]\n",
      "\n",
      " [[1 1 1]\n",
      "  [1 1 1]]]\n"
     ]
    }
   ],
   "source": [
    "# your code/answer here\n",
    "print(a)\n",
    "\n",
    "print(b)"
   ]
  },
  {
   "cell_type": "markdown",
   "metadata": {},
   "source": [
    "#### 12. Multiply *a* and *c*. Assign the result to *e*."
   ]
  },
  {
   "cell_type": "code",
   "execution_count": 167,
   "metadata": {},
   "outputs": [],
   "source": [
    "# your code here\n",
    "e = a * c"
   ]
  },
  {
   "cell_type": "markdown",
   "metadata": {},
   "source": [
    "#### 13. Does *e* equal to *a*? Why or why not?\n"
   ]
  },
  {
   "cell_type": "code",
   "execution_count": 168,
   "metadata": {},
   "outputs": [
    {
     "data": {
      "text/plain": [
       "array([[[ True,  True,  True,  True,  True],\n",
       "        [ True,  True,  True,  True,  True],\n",
       "        [ True,  True,  True,  True,  True]],\n",
       "\n",
       "       [[ True,  True,  True,  True,  True],\n",
       "        [ True,  True,  True,  True,  True],\n",
       "        [ True,  True,  True,  True,  True]]])"
      ]
     },
     "execution_count": 168,
     "metadata": {},
     "output_type": "execute_result"
    }
   ],
   "source": [
    "# your code/answer here\n",
    "\n",
    "e == a"
   ]
  },
  {
   "cell_type": "markdown",
   "metadata": {},
   "source": [
    "#### 14. Identify the max, min, and mean values in *d*. Assign those values to variables *d_max*, *d_min* and *d_mean*."
   ]
  },
  {
   "cell_type": "code",
   "execution_count": 209,
   "metadata": {},
   "outputs": [
    {
     "name": "stdout",
     "output_type": "stream",
     "text": [
      "[[[1.69383785 1.31557124 1.77128259 1.97539613 1.36927456]\n",
      "  [1.10023612 1.35177448 1.86386996 1.41433631 1.27002812]\n",
      "  [1.67394949 1.69947547 1.53958484 1.76677251 1.3238135 ]]\n",
      "\n",
      " [[1.7446107  1.54961824 1.6571615  1.20705326 1.52782555]\n",
      "  [1.03877731 1.84286891 1.47123326 1.76601986 1.38554845]\n",
      "  [1.25812644 1.43447495 1.33672481 1.41459509 1.41545317]]]\n",
      "1.0387773097423767\n",
      "1.5059764891084542\n",
      "1.9753961306386971\n"
     ]
    }
   ],
   "source": [
    "# your code here\n",
    "print(d)\n",
    "\n",
    "d_max = (np.max(d))\n",
    "d_min = (np.min(d))\n",
    "d_mean = (np.mean(d))\n",
    "print(d_min)\n",
    "print(d_mean)\n",
    "print(d_max)"
   ]
  },
  {
   "cell_type": "markdown",
   "metadata": {},
   "source": [
    "#### 15. Now we want to label the values in *d*. First create an empty array *f* with the same shape (i.e. 2x3x5) as *d* using `np.empty`.\n"
   ]
  },
  {
   "cell_type": "code",
   "execution_count": 171,
   "metadata": {},
   "outputs": [],
   "source": [
    "# your code here\n",
    "f = np.empty((2,3,5), dtype = int )"
   ]
  },
  {
   "cell_type": "markdown",
   "metadata": {},
   "source": [
    "#### 16. Populate the values in *f*. \n",
    "\n",
    "For each value in *d*, if it's larger than *d_min* but smaller than *d_mean*, assign 25 to the corresponding value in *f*. If a value in *d* is larger than *d_mean* but smaller than *d_max*, assign 75 to the corresponding value in *f*. If a value equals to *d_mean*, assign 50 to the corresponding value in *f*. Assign 0 to the corresponding value(s) in *f* for *d_min* in *d*. Assign 100 to the corresponding value(s) in *f* for *d_max* in *d*. In the end, f should have only the following values: 0, 25, 50, 75, and 100.\n",
    "\n",
    "**Note**: you don't have to use Numpy in this question."
   ]
  },
  {
   "cell_type": "code",
   "execution_count": 224,
   "metadata": {},
   "outputs": [
    {
     "name": "stdout",
     "output_type": "stream",
     "text": [
      "[[[1.69383785 1.31557124 1.77128259 1.97539613 1.36927456]\n",
      "  [1.10023612 1.35177448 1.86386996 1.41433631 1.27002812]\n",
      "  [1.67394949 1.69947547 1.53958484 1.76677251 1.3238135 ]]\n",
      "\n",
      " [[1.7446107  1.54961824 1.6571615  1.20705326 1.52782555]\n",
      "  [1.03877731 1.84286891 1.47123326 1.76601986 1.38554845]\n",
      "  [1.25812644 1.43447495 1.33672481 1.41459509 1.41545317]]]\n"
     ]
    }
   ],
   "source": [
    "# your code here\n",
    "aaa = []\n",
    "\n",
    "for x in d:\n",
    "    for y in x:\n",
    "        for z in y:\n",
    "            if z > d_min and z < d_mean:\n",
    "                z = 25\n",
    "                aaa.append(z)\n",
    "            elif z > d_mean and z < d_max:\n",
    "                z = 75\n",
    "                aaa.append(z)\n",
    "            elif z == d_mean:\n",
    "                z = 50\n",
    "                aaa.append(z)\n",
    "            elif z == d_min:\n",
    "                z = 0 \n",
    "                aaa.append(z)\n",
    "            elif z == d_max :\n",
    "                z = 100\n",
    "                aaa.append(z)\n",
    "print(d)\n",
    "f = np.array(aaa).reshape(2,3,5)"
   ]
  },
  {
   "cell_type": "markdown",
   "metadata": {},
   "source": [
    "#### 17. Print *d* and *f*. Do you have your expected *f*?\n",
    "For instance, if your *d* is:\n",
    "```python\n",
    "[[[1.85836099, 1.67064465, 1.62576044, 1.40243961, 1.88454931],\n",
    "[1.75354326, 1.69403643, 1.36729252, 1.61415071, 1.12104981],\n",
    "[1.72201435, 1.1862918 , 1.87078449, 1.7726778 , 1.88180042]],\n",
    "[[1.44747908, 1.31673383, 1.02000951, 1.52218947, 1.97066381],\n",
    "[1.79129243, 1.74983003, 1.96028037, 1.85166831, 1.65450881],\n",
    "[1.18068344, 1.9587381 , 1.00656599, 1.93402165, 1.73514584]]]\n",
    "```\n",
    "Your *f* should be:\n",
    "```python\n",
    "[[[ 75.,  75.,  75.,  25.,  75.],\n",
    "[ 75.,  75.,  25.,  25.,  25.],\n",
    "[ 75.,  25.,  75.,  75.,  75.]],\n",
    "[[ 25.,  25.,  25.,  25., 100.],\n",
    "[ 75.,  75.,  75.,  75.,  75.],\n",
    "[ 25.,  75.,   0.,  75.,  75.]]]\n",
    "```"
   ]
  },
  {
   "cell_type": "code",
   "execution_count": 220,
   "metadata": {},
   "outputs": [
    {
     "name": "stdout",
     "output_type": "stream",
     "text": [
      "1.0387773097423767\n",
      "1.5059764891084542\n",
      "1.9753961306386971\n",
      "[[[1.69383785 1.31557124 1.77128259 1.97539613 1.36927456]\n",
      "  [1.10023612 1.35177448 1.86386996 1.41433631 1.27002812]\n",
      "  [1.67394949 1.69947547 1.53958484 1.76677251 1.3238135 ]]\n",
      "\n",
      " [[1.7446107  1.54961824 1.6571615  1.20705326 1.52782555]\n",
      "  [1.03877731 1.84286891 1.47123326 1.76601986 1.38554845]\n",
      "  [1.25812644 1.43447495 1.33672481 1.41459509 1.41545317]]]\n",
      "[[[ 75  25  75 100  25]\n",
      "  [ 25  25  75  25  25]\n",
      "  [ 75  75  75  75  25]]\n",
      "\n",
      " [[ 75  75  75  25  75]\n",
      "  [  0  75  25  75  25]\n",
      "  [ 25  25  25  25  25]]]\n"
     ]
    }
   ],
   "source": [
    "# your code here\n",
    "(print(d_min), print(d_mean), print(d_max))\n",
    "print(d)\n",
    "print(f)\n",
    "                    "
   ]
  },
  {
   "cell_type": "markdown",
   "metadata": {},
   "source": [
    "#### 18. Bonus question: instead of using numbers (i.e. 0, 25, 50, 75, and 100), use string values  (\"A\", \"B\", \"C\", \"D\", and \"E\") to label the array elements. For the example above, the expected result is:\n",
    "\n",
    "```python\n",
    "[[[ 'D',  'D',  'D',  'B',  'D'],\n",
    "[ 'D',  'D',  'B',  'B',  'B'],\n",
    "[ 'D',  'B',  'D',  'D',  'D']],\n",
    "[[ 'B',  'B',  'B',  'B',  'E'],\n",
    "[ 'D',  'D',  'D',  'D',  'D'],\n",
    "[ 'B',  'D',   'A',  'D', 'D']]]\n",
    "```\n",
    "**Note**: you don't have to use Numpy in this question."
   ]
  },
  {
   "cell_type": "code",
   "execution_count": 227,
   "metadata": {},
   "outputs": [
    {
     "name": "stdout",
     "output_type": "stream",
     "text": [
      "[[['D' 'B' 'D' 'E' 'B']\n",
      "  ['B' 'B' 'D' 'B' 'B']\n",
      "  ['D' 'D' 'D' 'D' 'B']]\n",
      "\n",
      " [['D' 'D' 'D' 'B' 'D']\n",
      "  ['A' 'D' 'B' 'D' 'B']\n",
      "  ['B' 'B' 'B' 'B' 'B']]]\n"
     ]
    }
   ],
   "source": [
    "# your code here\n",
    "bb = []\n",
    "\n",
    "for x in d:\n",
    "    for y in x:\n",
    "        for z in y:\n",
    "            if z > d_min and z < d_mean:\n",
    "                z = 'B'\n",
    "                bb.append(z)\n",
    "            elif z > d_mean and z < d_max:\n",
    "                z = 'D'\n",
    "                bb.append(z)\n",
    "            elif z == d_mean:\n",
    "                z = 'C'\n",
    "                bb.append(z)\n",
    "            elif z == d_min:\n",
    "                z = 'A' \n",
    "                bb.append(z)\n",
    "            elif z == d_max :\n",
    "                z = 'E'\n",
    "                bb.append(z)\n",
    "\n",
    "g = np.array(bb).reshape(2,3,5)\n",
    "print(g)"
   ]
  },
  {
   "cell_type": "code",
   "execution_count": null,
   "metadata": {},
   "outputs": [],
   "source": []
  }
 ],
 "metadata": {
  "kernelspec": {
   "display_name": "Python 3 (ipykernel)",
   "language": "python",
   "name": "python3"
  },
  "language_info": {
   "codemirror_mode": {
    "name": "ipython",
    "version": 3
   },
   "file_extension": ".py",
   "mimetype": "text/x-python",
   "name": "python",
   "nbconvert_exporter": "python",
   "pygments_lexer": "ipython3",
   "version": "3.9.13"
  }
 },
 "nbformat": 4,
 "nbformat_minor": 2
}
